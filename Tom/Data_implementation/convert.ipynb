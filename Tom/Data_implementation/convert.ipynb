{
 "cells": [
  {
   "cell_type": "code",
   "execution_count": 7,
   "metadata": {},
   "outputs": [],
   "source": [
    "import os\n",
    "import sys\n",
    "import yaml\n",
    "from validphys.utils import uncertainty_yaml_to_systype, convert_new_data_to_old"
   ]
  },
  {
   "cell_type": "code",
   "execution_count": 8,
   "metadata": {},
   "outputs": [],
   "source": [
    "path_data_yaml = 'data.yaml'\n",
    "path_unc_files = ['uncertainties.yaml']\n",
    "path_kin = 'kinematics.yaml'\n",
    "path_metadata = 'metadata.yaml'\n",
    "convert_new_data_to_old(path_data_yaml,\n",
    "                             path_unc_files,\n",
    "                             path_kin,\n",
    "                             path_metadata,\n",
    "                             name_dataset='BETA_DECAY',\n",
    "                             observable='OBS',\n",
    "                             path_DATA='Old_Implementation',)"
   ]
  },
  {
   "cell_type": "code",
   "execution_count": 10,
   "metadata": {},
   "outputs": [
    {
     "data": {
      "text/plain": [
       "1"
      ]
     },
     "execution_count": 10,
     "metadata": {},
     "output_type": "execute_result"
    }
   ],
   "source": [
    "uncertainty_yaml_to_systype(path_unc_files,\n",
    "                                 name_dataset='BETA_DECAY',\n",
    "                                 observable='Obs',\n",
    "                                 path_systype='Old_Implementation',)"
   ]
  },
  {
   "cell_type": "code",
   "execution_count": null,
   "metadata": {},
   "outputs": [],
   "source": []
  }
 ],
 "metadata": {
  "kernelspec": {
   "display_name": "simunet",
   "language": "python",
   "name": "python3"
  },
  "language_info": {
   "codemirror_mode": {
    "name": "ipython",
    "version": 3
   },
   "file_extension": ".py",
   "mimetype": "text/x-python",
   "name": "python",
   "nbconvert_exporter": "python",
   "pygments_lexer": "ipython3",
   "version": "3.10.9"
  }
 },
 "nbformat": 4,
 "nbformat_minor": 2
}
